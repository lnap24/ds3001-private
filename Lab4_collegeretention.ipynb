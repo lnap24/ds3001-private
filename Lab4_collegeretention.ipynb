{
 "cells": [
  {
   "cell_type": "markdown",
   "metadata": {},
   "source": [
    "# College Retention Data"
   ]
  },
  {
   "cell_type": "code",
   "execution_count": 1,
   "metadata": {},
   "outputs": [],
   "source": [
    "#code123\n",
    "#imports\n",
    "import pandas as pd\n",
    "import numpy as np\n",
    "from sklearn.model_selection import train_test_split\n",
    "from sklearn.preprocessing import MinMaxScaler, StandardScaler\n",
    "from sklearn.neighbors import KNeighborsClassifier\n",
    "from matplotlib import pyplot as plt"
   ]
  },
  {
   "cell_type": "markdown",
   "metadata": {},
   "source": [
    "# Phase 1: My question\n",
    "    How can I build a machine learning model to predict student retainment?"
   ]
  },
  {
   "cell_type": "code",
   "execution_count": 2,
   "metadata": {},
   "outputs": [
    {
     "data": {
      "text/html": [
       "<div>\n",
       "<style scoped>\n",
       "    .dataframe tbody tr th:only-of-type {\n",
       "        vertical-align: middle;\n",
       "    }\n",
       "\n",
       "    .dataframe tbody tr th {\n",
       "        vertical-align: top;\n",
       "    }\n",
       "\n",
       "    .dataframe thead th {\n",
       "        text-align: right;\n",
       "    }\n",
       "</style>\n",
       "<table border=\"1\" class=\"dataframe\">\n",
       "  <thead>\n",
       "    <tr style=\"text-align: right;\">\n",
       "      <th></th>\n",
       "      <th>level</th>\n",
       "      <th>control</th>\n",
       "      <th>basic</th>\n",
       "      <th>hbcu</th>\n",
       "      <th>flagship</th>\n",
       "      <th>student_count</th>\n",
       "      <th>awards_per_value</th>\n",
       "      <th>exp_award_value</th>\n",
       "      <th>ft_pct</th>\n",
       "      <th>aid_value</th>\n",
       "      <th>endow_value</th>\n",
       "      <th>grad_100_value</th>\n",
       "      <th>grad_150_value</th>\n",
       "      <th>pell_value</th>\n",
       "      <th>retain_value</th>\n",
       "      <th>ft_fac_value</th>\n",
       "      <th>cohort_size</th>\n",
       "    </tr>\n",
       "  </thead>\n",
       "  <tbody>\n",
       "    <tr>\n",
       "      <th>0</th>\n",
       "      <td>4-year</td>\n",
       "      <td>Public</td>\n",
       "      <td>Masters Colleges and Universities--larger prog...</td>\n",
       "      <td>X</td>\n",
       "      <td>NaN</td>\n",
       "      <td>4051</td>\n",
       "      <td>14.2</td>\n",
       "      <td>105331</td>\n",
       "      <td>93.8</td>\n",
       "      <td>7142.0</td>\n",
       "      <td>NaN</td>\n",
       "      <td>10.0</td>\n",
       "      <td>29.1</td>\n",
       "      <td>71.2</td>\n",
       "      <td>63.1</td>\n",
       "      <td>82.8</td>\n",
       "      <td>882.0</td>\n",
       "    </tr>\n",
       "    <tr>\n",
       "      <th>1</th>\n",
       "      <td>4-year</td>\n",
       "      <td>Public</td>\n",
       "      <td>Research Universities--very high research acti...</td>\n",
       "      <td>NaN</td>\n",
       "      <td>NaN</td>\n",
       "      <td>11502</td>\n",
       "      <td>20.9</td>\n",
       "      <td>136546</td>\n",
       "      <td>72.7</td>\n",
       "      <td>6088.0</td>\n",
       "      <td>24136.0</td>\n",
       "      <td>29.4</td>\n",
       "      <td>53.5</td>\n",
       "      <td>35.1</td>\n",
       "      <td>80.2</td>\n",
       "      <td>92.4</td>\n",
       "      <td>1376.0</td>\n",
       "    </tr>\n",
       "    <tr>\n",
       "      <th>2</th>\n",
       "      <td>4-year</td>\n",
       "      <td>Private not-for-profit</td>\n",
       "      <td>Baccalaureate Colleges--Arts &amp; Sciences</td>\n",
       "      <td>NaN</td>\n",
       "      <td>NaN</td>\n",
       "      <td>322</td>\n",
       "      <td>29.9</td>\n",
       "      <td>58414</td>\n",
       "      <td>62.7</td>\n",
       "      <td>2540.0</td>\n",
       "      <td>302.0</td>\n",
       "      <td>0.0</td>\n",
       "      <td>66.7</td>\n",
       "      <td>68.4</td>\n",
       "      <td>37.5</td>\n",
       "      <td>67.2</td>\n",
       "      <td>3.0</td>\n",
       "    </tr>\n",
       "    <tr>\n",
       "      <th>3</th>\n",
       "      <td>4-year</td>\n",
       "      <td>Public</td>\n",
       "      <td>Research Universities--very high research acti...</td>\n",
       "      <td>NaN</td>\n",
       "      <td>NaN</td>\n",
       "      <td>5696</td>\n",
       "      <td>20.9</td>\n",
       "      <td>64418</td>\n",
       "      <td>74.4</td>\n",
       "      <td>6647.0</td>\n",
       "      <td>11502.0</td>\n",
       "      <td>16.5</td>\n",
       "      <td>48.4</td>\n",
       "      <td>32.8</td>\n",
       "      <td>81.0</td>\n",
       "      <td>65.5</td>\n",
       "      <td>759.0</td>\n",
       "    </tr>\n",
       "    <tr>\n",
       "      <th>4</th>\n",
       "      <td>4-year</td>\n",
       "      <td>Public</td>\n",
       "      <td>Masters Colleges and Universities--larger prog...</td>\n",
       "      <td>X</td>\n",
       "      <td>NaN</td>\n",
       "      <td>5356</td>\n",
       "      <td>11.6</td>\n",
       "      <td>132407</td>\n",
       "      <td>91.0</td>\n",
       "      <td>7256.0</td>\n",
       "      <td>13202.0</td>\n",
       "      <td>8.8</td>\n",
       "      <td>25.2</td>\n",
       "      <td>82.7</td>\n",
       "      <td>62.2</td>\n",
       "      <td>67.0</td>\n",
       "      <td>1351.0</td>\n",
       "    </tr>\n",
       "  </tbody>\n",
       "</table>\n",
       "</div>"
      ],
      "text/plain": [
       "    level                 control  \\\n",
       "0  4-year                  Public   \n",
       "1  4-year                  Public   \n",
       "2  4-year  Private not-for-profit   \n",
       "3  4-year                  Public   \n",
       "4  4-year                  Public   \n",
       "\n",
       "                                               basic hbcu flagship  \\\n",
       "0  Masters Colleges and Universities--larger prog...    X      NaN   \n",
       "1  Research Universities--very high research acti...  NaN      NaN   \n",
       "2            Baccalaureate Colleges--Arts & Sciences  NaN      NaN   \n",
       "3  Research Universities--very high research acti...  NaN      NaN   \n",
       "4  Masters Colleges and Universities--larger prog...    X      NaN   \n",
       "\n",
       "   student_count  awards_per_value  exp_award_value  ft_pct  aid_value  \\\n",
       "0           4051              14.2           105331    93.8     7142.0   \n",
       "1          11502              20.9           136546    72.7     6088.0   \n",
       "2            322              29.9            58414    62.7     2540.0   \n",
       "3           5696              20.9            64418    74.4     6647.0   \n",
       "4           5356              11.6           132407    91.0     7256.0   \n",
       "\n",
       "   endow_value  grad_100_value  grad_150_value  pell_value  retain_value  \\\n",
       "0          NaN            10.0            29.1        71.2          63.1   \n",
       "1      24136.0            29.4            53.5        35.1          80.2   \n",
       "2        302.0             0.0            66.7        68.4          37.5   \n",
       "3      11502.0            16.5            48.4        32.8          81.0   \n",
       "4      13202.0             8.8            25.2        82.7          62.2   \n",
       "\n",
       "   ft_fac_value  cohort_size  \n",
       "0          82.8        882.0  \n",
       "1          92.4       1376.0  \n",
       "2          67.2          3.0  \n",
       "3          65.5        759.0  \n",
       "4          67.0       1351.0  "
      ]
     },
     "execution_count": 2,
     "metadata": {},
     "output_type": "execute_result"
    }
   ],
   "source": [
    "institution_details = pd.read_csv('../data/cc_institution_details.csv', encoding='latin1')\n",
    "institution_details = institution_details.drop(\n",
    "    ['med_sat_value', 'med_sat_percentile', 'long_x', \n",
    "     'lat_y', 'site', 'unitid', 'city',\n",
    "     'nicknames', 'similar'], axis=1)\n",
    "#institution_details.info()\n",
    "institution_details.drop(\n",
    "    columns=institution_details.columns[[0, 1, 9, 10, 12, 13, 14, 16, 17, 19, 21, 23, 25, 27, 29, 31] + list(range(32, 52))], inplace=True\n",
    ")\n",
    "institution_details.head()"
   ]
  },
  {
   "cell_type": "code",
   "execution_count": 3,
   "metadata": {},
   "outputs": [
    {
     "name": "stdout",
     "output_type": "stream",
     "text": [
      "<class 'pandas.core.frame.DataFrame'>\n",
      "RangeIndex: 3798 entries, 0 to 3797\n",
      "Data columns (total 17 columns):\n",
      " #   Column            Non-Null Count  Dtype   \n",
      "---  ------            --------------  -----   \n",
      " 0   level             3798 non-null   category\n",
      " 1   control           3798 non-null   category\n",
      " 2   basic             3798 non-null   category\n",
      " 3   hbcu              3798 non-null   category\n",
      " 4   flagship          3798 non-null   category\n",
      " 5   student_count     3798 non-null   int64   \n",
      " 6   awards_per_value  3798 non-null   float64 \n",
      " 7   exp_award_value   3798 non-null   int64   \n",
      " 8   ft_pct            3794 non-null   float64 \n",
      " 9   aid_value         3797 non-null   float64 \n",
      " 10  endow_value       2323 non-null   float64 \n",
      " 11  grad_100_value    3467 non-null   float64 \n",
      " 12  grad_150_value    3467 non-null   float64 \n",
      " 13  pell_value        3797 non-null   float64 \n",
      " 14  retain_value      3535 non-null   float64 \n",
      " 15  ft_fac_value      3785 non-null   float64 \n",
      " 16  cohort_size       3467 non-null   float64 \n",
      "dtypes: category(5), float64(10), int64(2)\n",
      "memory usage: 376.5 KB\n"
     ]
    }
   ],
   "source": [
    "institution_details['hbcu']= [1 if institution_details['hbcu'][i]=='X' else 0 for i in range(len(institution_details['hbcu']))]\n",
    "institution_details['hbcu'] = institution_details.hbcu.astype('category')\n",
    "institution_details['flagship']= [1 if institution_details['flagship'][i]=='X' else 0 for i in range(len(institution_details['hbcu']))]\n",
    "institution_details['flagship'] = institution_details.flagship.astype('category')\n",
    "institution_details['level'] = institution_details.level.astype('category')\n",
    "institution_details['control'] = institution_details.control.astype('category')\n",
    "institution_details['basic'] = institution_details.basic.astype('category')\n",
    "institution_details.info()"
   ]
  },
  {
   "cell_type": "code",
   "execution_count": 4,
   "metadata": {},
   "outputs": [
    {
     "name": "stderr",
     "output_type": "stream",
     "text": [
      "/Users/Luke/anaconda3/envs/sklearn-env/lib/python3.11/site-packages/seaborn/axisgrid.py:118: UserWarning: The figure layout has changed to tight\n",
      "  self._figure.tight_layout(*args, **kwargs)\n"
     ]
    },
    {
     "data": {
      "text/plain": [
       "<seaborn.axisgrid.FacetGrid at 0x1657bd590>"
      ]
     },
     "execution_count": 4,
     "metadata": {},
     "output_type": "execute_result"
    },
    {
     "data": {
      "image/png": "[encoded data removed]",
      "text/plain": [
       "<Figure size 709.875x500 with 1 Axes>"
      ]
     },
     "metadata": {},
     "output_type": "display_data"
    }
   ],
   "source": [
    "import seaborn as sns\n",
    "sns.displot(\n",
    "    data=institution_details.isna().melt(value_name=\"missing\"),\n",
    "    y=\"variable\",\n",
    "    hue=\"missing\",\n",
    "    multiple=\"fill\",\n",
    "    aspect=1.25\n",
    ")"
   ]
  },
  {
   "cell_type": "code",
   "execution_count": 5,
   "metadata": {},
   "outputs": [
    {
     "name": "stderr",
     "output_type": "stream",
     "text": [
      "/Users/Luke/anaconda3/envs/sklearn-env/lib/python3.11/site-packages/seaborn/axisgrid.py:118: UserWarning: The figure layout has changed to tight\n",
      "  self._figure.tight_layout(*args, **kwargs)\n"
     ]
    },
    {
     "data": {
      "text/plain": [
       "<seaborn.axisgrid.FacetGrid at 0x16584d710>"
      ]
     },
     "execution_count": 5,
     "metadata": {},
     "output_type": "execute_result"
    },
    {
     "data": {
      "image/png": "[encoded data removed]",
      "text/plain": [
       "<Figure size 709.875x500 with 1 Axes>"
      ]
     },
     "metadata": {},
     "output_type": "display_data"
    }
   ],
   "source": [
    "institution_details2 = institution_details.drop(['endow_value'], axis=1)\n",
    "institution_details2.dropna(axis = 0, how = 'any', inplace = True)\n",
    "sns.displot(\n",
    "    data=institution_details2.isna().melt(value_name=\"missing\"),\n",
    "    y=\"variable\",\n",
    "    hue=\"missing\",\n",
    "    multiple=\"fill\",\n",
    "    aspect=1.25\n",
    ")"
   ]
  },
  {
   "cell_type": "code",
   "execution_count": 6,
   "metadata": {},
   "outputs": [
    {
     "data": {
      "text/plain": [
       "array([[-0.22508225],\n",
       "       [ 0.84412891],\n",
       "       [-1.82577264],\n",
       "       [ 0.89415049],\n",
       "       [-0.28135652],\n",
       "       [ 1.2693123 ],\n",
       "       [-1.50063241],\n",
       "       [-0.21882955],\n",
       "       [ 1.42562972],\n",
       "       [ 0.85663431]])"
      ]
     },
     "execution_count": 6,
     "metadata": {},
     "output_type": "execute_result"
    }
   ],
   "source": [
    "retainment_standardizing = StandardScaler().fit_transform(institution_details2[['retain_value']])\n",
    "retainment_standardizing[:10]"
   ]
  },
  {
   "cell_type": "code",
   "execution_count": 7,
   "metadata": {},
   "outputs": [
    {
     "data": {
      "text/plain": [
       "array([[0.631],\n",
       "       [0.802],\n",
       "       [0.375],\n",
       "       [0.81 ],\n",
       "       [0.622],\n",
       "       [0.87 ],\n",
       "       [0.427],\n",
       "       [0.632],\n",
       "       [0.895],\n",
       "       [0.804]])"
      ]
     },
     "execution_count": 7,
     "metadata": {},
     "output_type": "execute_result"
    }
   ],
   "source": [
    "retainment_normalizing = MinMaxScaler().fit_transform(institution_details2[['retain_value']])\n",
    "retainment_normalizing[:10]"
   ]
  },
  {
   "cell_type": "code",
   "execution_count": 8,
   "metadata": {},
   "outputs": [
    {
     "data": {
      "text/plain": [
       "<Axes: ylabel='Density'>"
      ]
     },
     "execution_count": 8,
     "metadata": {},
     "output_type": "execute_result"
    },
    {
     "data": {
      "image/png": "[encoded data removed]",
      "text/plain": [
       "<Figure size 640x480 with 1 Axes>"
      ]
     },
     "metadata": {},
     "output_type": "display_data"
    }
   ],
   "source": [
    "institution_details2.retain_value.plot.density()"
   ]
  },
  {
   "cell_type": "code",
   "execution_count": 9,
   "metadata": {},
   "outputs": [
    {
     "data": {
      "text/plain": [
       "<Axes: ylabel='Density'>"
      ]
     },
     "execution_count": 9,
     "metadata": {},
     "output_type": "execute_result"
    },
    {
     "data": {
      "image/png": "[encoded data removed]",
      "text/plain": [
       "<Figure size 640x480 with 1 Axes>"
      ]
     },
     "metadata": {},
     "output_type": "display_data"
    }
   ],
   "source": [
    "pd.DataFrame(retainment_normalizing).plot.density()"
   ]
  },
  {
   "cell_type": "code",
   "execution_count": 10,
   "metadata": {},
   "outputs": [
    {
     "data": {
      "text/html": [
       "<div>\n",
       "<style scoped>\n",
       "    .dataframe tbody tr th:only-of-type {\n",
       "        vertical-align: middle;\n",
       "    }\n",
       "\n",
       "    .dataframe tbody tr th {\n",
       "        vertical-align: top;\n",
       "    }\n",
       "\n",
       "    .dataframe thead th {\n",
       "        text-align: right;\n",
       "    }\n",
       "</style>\n",
       "<table border=\"1\" class=\"dataframe\">\n",
       "  <thead>\n",
       "    <tr style=\"text-align: right;\">\n",
       "      <th></th>\n",
       "      <th>level</th>\n",
       "      <th>control</th>\n",
       "      <th>basic</th>\n",
       "      <th>hbcu</th>\n",
       "      <th>flagship</th>\n",
       "      <th>student_count</th>\n",
       "      <th>awards_per_value</th>\n",
       "      <th>exp_award_value</th>\n",
       "      <th>ft_pct</th>\n",
       "      <th>aid_value</th>\n",
       "      <th>grad_100_value</th>\n",
       "      <th>grad_150_value</th>\n",
       "      <th>pell_value</th>\n",
       "      <th>retain_value</th>\n",
       "      <th>ft_fac_value</th>\n",
       "      <th>cohort_size</th>\n",
       "    </tr>\n",
       "  </thead>\n",
       "  <tbody>\n",
       "    <tr>\n",
       "      <th>0</th>\n",
       "      <td>4-year</td>\n",
       "      <td>Public</td>\n",
       "      <td>Masters Colleges and Universities--larger prog...</td>\n",
       "      <td>1</td>\n",
       "      <td>0</td>\n",
       "      <td>0.023677</td>\n",
       "      <td>0.104900</td>\n",
       "      <td>0.019941</td>\n",
       "      <td>0.935551</td>\n",
       "      <td>0.165867</td>\n",
       "      <td>0.100</td>\n",
       "      <td>0.291</td>\n",
       "      <td>0.712</td>\n",
       "      <td>0.631</td>\n",
       "      <td>0.828</td>\n",
       "      <td>0.054289</td>\n",
       "    </tr>\n",
       "    <tr>\n",
       "      <th>1</th>\n",
       "      <td>4-year</td>\n",
       "      <td>Public</td>\n",
       "      <td>Research Universities--very high research acti...</td>\n",
       "      <td>0</td>\n",
       "      <td>0</td>\n",
       "      <td>0.067476</td>\n",
       "      <td>0.156202</td>\n",
       "      <td>0.025851</td>\n",
       "      <td>0.716216</td>\n",
       "      <td>0.140338</td>\n",
       "      <td>0.294</td>\n",
       "      <td>0.535</td>\n",
       "      <td>0.351</td>\n",
       "      <td>0.802</td>\n",
       "      <td>0.924</td>\n",
       "      <td>0.084730</td>\n",
       "    </tr>\n",
       "    <tr>\n",
       "      <th>2</th>\n",
       "      <td>4-year</td>\n",
       "      <td>Private not-for-profit</td>\n",
       "      <td>Baccalaureate Colleges--Arts &amp; Sciences</td>\n",
       "      <td>0</td>\n",
       "      <td>0</td>\n",
       "      <td>0.001758</td>\n",
       "      <td>0.225115</td>\n",
       "      <td>0.011059</td>\n",
       "      <td>0.612266</td>\n",
       "      <td>0.054401</td>\n",
       "      <td>0.000</td>\n",
       "      <td>0.667</td>\n",
       "      <td>0.684</td>\n",
       "      <td>0.375</td>\n",
       "      <td>0.672</td>\n",
       "      <td>0.000123</td>\n",
       "    </tr>\n",
       "    <tr>\n",
       "      <th>3</th>\n",
       "      <td>4-year</td>\n",
       "      <td>Public</td>\n",
       "      <td>Research Universities--very high research acti...</td>\n",
       "      <td>0</td>\n",
       "      <td>0</td>\n",
       "      <td>0.033347</td>\n",
       "      <td>0.156202</td>\n",
       "      <td>0.012196</td>\n",
       "      <td>0.733888</td>\n",
       "      <td>0.153878</td>\n",
       "      <td>0.165</td>\n",
       "      <td>0.484</td>\n",
       "      <td>0.328</td>\n",
       "      <td>0.810</td>\n",
       "      <td>0.655</td>\n",
       "      <td>0.046709</td>\n",
       "    </tr>\n",
       "    <tr>\n",
       "      <th>4</th>\n",
       "      <td>4-year</td>\n",
       "      <td>Public</td>\n",
       "      <td>Masters Colleges and Universities--larger prog...</td>\n",
       "      <td>1</td>\n",
       "      <td>0</td>\n",
       "      <td>0.031348</td>\n",
       "      <td>0.084992</td>\n",
       "      <td>0.025067</td>\n",
       "      <td>0.906445</td>\n",
       "      <td>0.168629</td>\n",
       "      <td>0.088</td>\n",
       "      <td>0.252</td>\n",
       "      <td>0.827</td>\n",
       "      <td>0.622</td>\n",
       "      <td>0.670</td>\n",
       "      <td>0.083190</td>\n",
       "    </tr>\n",
       "    <tr>\n",
       "      <th>...</th>\n",
       "      <td>...</td>\n",
       "      <td>...</td>\n",
       "      <td>...</td>\n",
       "      <td>...</td>\n",
       "      <td>...</td>\n",
       "      <td>...</td>\n",
       "      <td>...</td>\n",
       "      <td>...</td>\n",
       "      <td>...</td>\n",
       "      <td>...</td>\n",
       "      <td>...</td>\n",
       "      <td>...</td>\n",
       "      <td>...</td>\n",
       "      <td>...</td>\n",
       "      <td>...</td>\n",
       "      <td>...</td>\n",
       "    </tr>\n",
       "    <tr>\n",
       "      <th>3792</th>\n",
       "      <td>2-year</td>\n",
       "      <td>Public</td>\n",
       "      <td>Tribal Colleges</td>\n",
       "      <td>0</td>\n",
       "      <td>0</td>\n",
       "      <td>0.000488</td>\n",
       "      <td>0.054364</td>\n",
       "      <td>0.023993</td>\n",
       "      <td>0.588358</td>\n",
       "      <td>0.106961</td>\n",
       "      <td>0.000</td>\n",
       "      <td>0.000</td>\n",
       "      <td>0.744</td>\n",
       "      <td>0.333</td>\n",
       "      <td>0.286</td>\n",
       "      <td>0.000185</td>\n",
       "    </tr>\n",
       "    <tr>\n",
       "      <th>3793</th>\n",
       "      <td>4-year</td>\n",
       "      <td>Private not-for-profit</td>\n",
       "      <td>Not applicable- not in Carnegie universe</td>\n",
       "      <td>0</td>\n",
       "      <td>0</td>\n",
       "      <td>0.000511</td>\n",
       "      <td>0.196784</td>\n",
       "      <td>0.004553</td>\n",
       "      <td>0.319127</td>\n",
       "      <td>0.110594</td>\n",
       "      <td>0.000</td>\n",
       "      <td>0.000</td>\n",
       "      <td>0.263</td>\n",
       "      <td>0.333</td>\n",
       "      <td>0.107</td>\n",
       "      <td>0.000678</td>\n",
       "    </tr>\n",
       "    <tr>\n",
       "      <th>3794</th>\n",
       "      <td>4-year</td>\n",
       "      <td>Private not-for-profit</td>\n",
       "      <td>Not applicable- not in Carnegie universe</td>\n",
       "      <td>0</td>\n",
       "      <td>0</td>\n",
       "      <td>0.000688</td>\n",
       "      <td>0.123277</td>\n",
       "      <td>0.020061</td>\n",
       "      <td>0.917879</td>\n",
       "      <td>0.220438</td>\n",
       "      <td>0.515</td>\n",
       "      <td>0.515</td>\n",
       "      <td>0.283</td>\n",
       "      <td>0.744</td>\n",
       "      <td>0.444</td>\n",
       "      <td>0.001972</td>\n",
       "    </tr>\n",
       "    <tr>\n",
       "      <th>3795</th>\n",
       "      <td>4-year</td>\n",
       "      <td>Private for-profit</td>\n",
       "      <td>Not applicable- not in Carnegie universe</td>\n",
       "      <td>0</td>\n",
       "      <td>0</td>\n",
       "      <td>0.002733</td>\n",
       "      <td>0.418070</td>\n",
       "      <td>0.010022</td>\n",
       "      <td>0.553015</td>\n",
       "      <td>0.072591</td>\n",
       "      <td>0.375</td>\n",
       "      <td>0.375</td>\n",
       "      <td>0.531</td>\n",
       "      <td>0.778</td>\n",
       "      <td>0.296</td>\n",
       "      <td>0.000431</td>\n",
       "    </tr>\n",
       "    <tr>\n",
       "      <th>3796</th>\n",
       "      <td>2-year</td>\n",
       "      <td>Private for-profit</td>\n",
       "      <td>Not applicable- not in Carnegie universe</td>\n",
       "      <td>0</td>\n",
       "      <td>0</td>\n",
       "      <td>0.000729</td>\n",
       "      <td>0.247320</td>\n",
       "      <td>0.014172</td>\n",
       "      <td>0.689189</td>\n",
       "      <td>0.076055</td>\n",
       "      <td>0.421</td>\n",
       "      <td>0.559</td>\n",
       "      <td>0.408</td>\n",
       "      <td>0.789</td>\n",
       "      <td>0.423</td>\n",
       "      <td>0.008874</td>\n",
       "    </tr>\n",
       "  </tbody>\n",
       "</table>\n",
       "<p>3371 rows × 16 columns</p>\n",
       "</div>"
      ],
      "text/plain": [
       "       level                 control  \\\n",
       "0     4-year                  Public   \n",
       "1     4-year                  Public   \n",
       "2     4-year  Private not-for-profit   \n",
       "3     4-year                  Public   \n",
       "4     4-year                  Public   \n",
       "...      ...                     ...   \n",
       "3792  2-year                  Public   \n",
       "3793  4-year  Private not-for-profit   \n",
       "3794  4-year  Private not-for-profit   \n",
       "3795  4-year      Private for-profit   \n",
       "3796  2-year      Private for-profit   \n",
       "\n",
       "                                                  basic hbcu flagship  \\\n",
       "0     Masters Colleges and Universities--larger prog...    1        0   \n",
       "1     Research Universities--very high research acti...    0        0   \n",
       "2               Baccalaureate Colleges--Arts & Sciences    0        0   \n",
       "3     Research Universities--very high research acti...    0        0   \n",
       "4     Masters Colleges and Universities--larger prog...    1        0   \n",
       "...                                                 ...  ...      ...   \n",
       "3792                                    Tribal Colleges    0        0   \n",
       "3793           Not applicable- not in Carnegie universe    0        0   \n",
       "3794           Not applicable- not in Carnegie universe    0        0   \n",
       "3795           Not applicable- not in Carnegie universe    0        0   \n",
       "3796           Not applicable- not in Carnegie universe    0        0   \n",
       "\n",
       "      student_count  awards_per_value  exp_award_value    ft_pct  aid_value  \\\n",
       "0          0.023677          0.104900         0.019941  0.935551   0.165867   \n",
       "1          0.067476          0.156202         0.025851  0.716216   0.140338   \n",
       "2          0.001758          0.225115         0.011059  0.612266   0.054401   \n",
       "3          0.033347          0.156202         0.012196  0.733888   0.153878   \n",
       "4          0.031348          0.084992         0.025067  0.906445   0.168629   \n",
       "...             ...               ...              ...       ...        ...   \n",
       "3792       0.000488          0.054364         0.023993  0.588358   0.106961   \n",
       "3793       0.000511          0.196784         0.004553  0.319127   0.110594   \n",
       "3794       0.000688          0.123277         0.020061  0.917879   0.220438   \n",
       "3795       0.002733          0.418070         0.010022  0.553015   0.072591   \n",
       "3796       0.000729          0.247320         0.014172  0.689189   0.076055   \n",
       "\n",
       "      grad_100_value  grad_150_value  pell_value  retain_value  ft_fac_value  \\\n",
       "0              0.100           0.291       0.712         0.631         0.828   \n",
       "1              0.294           0.535       0.351         0.802         0.924   \n",
       "2              0.000           0.667       0.684         0.375         0.672   \n",
       "3              0.165           0.484       0.328         0.810         0.655   \n",
       "4              0.088           0.252       0.827         0.622         0.670   \n",
       "...              ...             ...         ...           ...           ...   \n",
       "3792           0.000           0.000       0.744         0.333         0.286   \n",
       "3793           0.000           0.000       0.263         0.333         0.107   \n",
       "3794           0.515           0.515       0.283         0.744         0.444   \n",
       "3795           0.375           0.375       0.531         0.778         0.296   \n",
       "3796           0.421           0.559       0.408         0.789         0.423   \n",
       "\n",
       "      cohort_size  \n",
       "0        0.054289  \n",
       "1        0.084730  \n",
       "2        0.000123  \n",
       "3        0.046709  \n",
       "4        0.083190  \n",
       "...           ...  \n",
       "3792     0.000185  \n",
       "3793     0.000678  \n",
       "3794     0.001972  \n",
       "3795     0.000431  \n",
       "3796     0.008874  \n",
       "\n",
       "[3371 rows x 16 columns]"
      ]
     },
     "execution_count": 10,
     "metadata": {},
     "output_type": "execute_result"
    }
   ],
   "source": [
    "numbers_listing = list(institution_details2.select_dtypes('number')) #select function to find the numeric variables and create a list  \n",
    "\n",
    "institution_details2[numbers_listing] = MinMaxScaler().fit_transform(institution_details2[numbers_listing])\n",
    "institution_details2"
   ]
  },
  {
   "cell_type": "code",
   "execution_count": 11,
   "metadata": {},
   "outputs": [
    {
     "data": {
      "text/html": [
       "<div>\n",
       "<style scoped>\n",
       "    .dataframe tbody tr th:only-of-type {\n",
       "        vertical-align: middle;\n",
       "    }\n",
       "\n",
       "    .dataframe tbody tr th {\n",
       "        vertical-align: top;\n",
       "    }\n",
       "\n",
       "    .dataframe thead th {\n",
       "        text-align: right;\n",
       "    }\n",
       "</style>\n",
       "<table border=\"1\" class=\"dataframe\">\n",
       "  <thead>\n",
       "    <tr style=\"text-align: right;\">\n",
       "      <th></th>\n",
       "      <th>student_count</th>\n",
       "      <th>awards_per_value</th>\n",
       "      <th>exp_award_value</th>\n",
       "      <th>ft_pct</th>\n",
       "      <th>aid_value</th>\n",
       "      <th>grad_100_value</th>\n",
       "      <th>grad_150_value</th>\n",
       "      <th>pell_value</th>\n",
       "      <th>retain_value</th>\n",
       "      <th>ft_fac_value</th>\n",
       "      <th>...</th>\n",
       "      <th>basic_Schools of art- music- and design</th>\n",
       "      <th>basic_Schools of business and management</th>\n",
       "      <th>basic_Schools of engineering</th>\n",
       "      <th>basic_Schools of law</th>\n",
       "      <th>basic_Theological seminaries- Bible colleges- and other faith-related institutions</th>\n",
       "      <th>basic_Tribal Colleges</th>\n",
       "      <th>hbcu_0</th>\n",
       "      <th>hbcu_1</th>\n",
       "      <th>flagship_0</th>\n",
       "      <th>flagship_1</th>\n",
       "    </tr>\n",
       "  </thead>\n",
       "  <tbody>\n",
       "    <tr>\n",
       "      <th>0</th>\n",
       "      <td>0.023677</td>\n",
       "      <td>0.104900</td>\n",
       "      <td>0.019941</td>\n",
       "      <td>0.935551</td>\n",
       "      <td>0.165867</td>\n",
       "      <td>0.100</td>\n",
       "      <td>0.291</td>\n",
       "      <td>0.712</td>\n",
       "      <td>0.631</td>\n",
       "      <td>0.828</td>\n",
       "      <td>...</td>\n",
       "      <td>0</td>\n",
       "      <td>0</td>\n",
       "      <td>0</td>\n",
       "      <td>0</td>\n",
       "      <td>0</td>\n",
       "      <td>0</td>\n",
       "      <td>0</td>\n",
       "      <td>1</td>\n",
       "      <td>1</td>\n",
       "      <td>0</td>\n",
       "    </tr>\n",
       "    <tr>\n",
       "      <th>1</th>\n",
       "      <td>0.067476</td>\n",
       "      <td>0.156202</td>\n",
       "      <td>0.025851</td>\n",
       "      <td>0.716216</td>\n",
       "      <td>0.140338</td>\n",
       "      <td>0.294</td>\n",
       "      <td>0.535</td>\n",
       "      <td>0.351</td>\n",
       "      <td>0.802</td>\n",
       "      <td>0.924</td>\n",
       "      <td>...</td>\n",
       "      <td>0</td>\n",
       "      <td>0</td>\n",
       "      <td>0</td>\n",
       "      <td>0</td>\n",
       "      <td>0</td>\n",
       "      <td>0</td>\n",
       "      <td>1</td>\n",
       "      <td>0</td>\n",
       "      <td>1</td>\n",
       "      <td>0</td>\n",
       "    </tr>\n",
       "    <tr>\n",
       "      <th>2</th>\n",
       "      <td>0.001758</td>\n",
       "      <td>0.225115</td>\n",
       "      <td>0.011059</td>\n",
       "      <td>0.612266</td>\n",
       "      <td>0.054401</td>\n",
       "      <td>0.000</td>\n",
       "      <td>0.667</td>\n",
       "      <td>0.684</td>\n",
       "      <td>0.375</td>\n",
       "      <td>0.672</td>\n",
       "      <td>...</td>\n",
       "      <td>0</td>\n",
       "      <td>0</td>\n",
       "      <td>0</td>\n",
       "      <td>0</td>\n",
       "      <td>0</td>\n",
       "      <td>0</td>\n",
       "      <td>1</td>\n",
       "      <td>0</td>\n",
       "      <td>1</td>\n",
       "      <td>0</td>\n",
       "    </tr>\n",
       "    <tr>\n",
       "      <th>3</th>\n",
       "      <td>0.033347</td>\n",
       "      <td>0.156202</td>\n",
       "      <td>0.012196</td>\n",
       "      <td>0.733888</td>\n",
       "      <td>0.153878</td>\n",
       "      <td>0.165</td>\n",
       "      <td>0.484</td>\n",
       "      <td>0.328</td>\n",
       "      <td>0.810</td>\n",
       "      <td>0.655</td>\n",
       "      <td>...</td>\n",
       "      <td>0</td>\n",
       "      <td>0</td>\n",
       "      <td>0</td>\n",
       "      <td>0</td>\n",
       "      <td>0</td>\n",
       "      <td>0</td>\n",
       "      <td>1</td>\n",
       "      <td>0</td>\n",
       "      <td>1</td>\n",
       "      <td>0</td>\n",
       "    </tr>\n",
       "    <tr>\n",
       "      <th>4</th>\n",
       "      <td>0.031348</td>\n",
       "      <td>0.084992</td>\n",
       "      <td>0.025067</td>\n",
       "      <td>0.906445</td>\n",
       "      <td>0.168629</td>\n",
       "      <td>0.088</td>\n",
       "      <td>0.252</td>\n",
       "      <td>0.827</td>\n",
       "      <td>0.622</td>\n",
       "      <td>0.670</td>\n",
       "      <td>...</td>\n",
       "      <td>0</td>\n",
       "      <td>0</td>\n",
       "      <td>0</td>\n",
       "      <td>0</td>\n",
       "      <td>0</td>\n",
       "      <td>0</td>\n",
       "      <td>0</td>\n",
       "      <td>1</td>\n",
       "      <td>1</td>\n",
       "      <td>0</td>\n",
       "    </tr>\n",
       "    <tr>\n",
       "      <th>...</th>\n",
       "      <td>...</td>\n",
       "      <td>...</td>\n",
       "      <td>...</td>\n",
       "      <td>...</td>\n",
       "      <td>...</td>\n",
       "      <td>...</td>\n",
       "      <td>...</td>\n",
       "      <td>...</td>\n",
       "      <td>...</td>\n",
       "      <td>...</td>\n",
       "      <td>...</td>\n",
       "      <td>...</td>\n",
       "      <td>...</td>\n",
       "      <td>...</td>\n",
       "      <td>...</td>\n",
       "      <td>...</td>\n",
       "      <td>...</td>\n",
       "      <td>...</td>\n",
       "      <td>...</td>\n",
       "      <td>...</td>\n",
       "      <td>...</td>\n",
       "    </tr>\n",
       "    <tr>\n",
       "      <th>3792</th>\n",
       "      <td>0.000488</td>\n",
       "      <td>0.054364</td>\n",
       "      <td>0.023993</td>\n",
       "      <td>0.588358</td>\n",
       "      <td>0.106961</td>\n",
       "      <td>0.000</td>\n",
       "      <td>0.000</td>\n",
       "      <td>0.744</td>\n",
       "      <td>0.333</td>\n",
       "      <td>0.286</td>\n",
       "      <td>...</td>\n",
       "      <td>0</td>\n",
       "      <td>0</td>\n",
       "      <td>0</td>\n",
       "      <td>0</td>\n",
       "      <td>0</td>\n",
       "      <td>1</td>\n",
       "      <td>1</td>\n",
       "      <td>0</td>\n",
       "      <td>1</td>\n",
       "      <td>0</td>\n",
       "    </tr>\n",
       "    <tr>\n",
       "      <th>3793</th>\n",
       "      <td>0.000511</td>\n",
       "      <td>0.196784</td>\n",
       "      <td>0.004553</td>\n",
       "      <td>0.319127</td>\n",
       "      <td>0.110594</td>\n",
       "      <td>0.000</td>\n",
       "      <td>0.000</td>\n",
       "      <td>0.263</td>\n",
       "      <td>0.333</td>\n",
       "      <td>0.107</td>\n",
       "      <td>...</td>\n",
       "      <td>0</td>\n",
       "      <td>0</td>\n",
       "      <td>0</td>\n",
       "      <td>0</td>\n",
       "      <td>0</td>\n",
       "      <td>0</td>\n",
       "      <td>1</td>\n",
       "      <td>0</td>\n",
       "      <td>1</td>\n",
       "      <td>0</td>\n",
       "    </tr>\n",
       "    <tr>\n",
       "      <th>3794</th>\n",
       "      <td>0.000688</td>\n",
       "      <td>0.123277</td>\n",
       "      <td>0.020061</td>\n",
       "      <td>0.917879</td>\n",
       "      <td>0.220438</td>\n",
       "      <td>0.515</td>\n",
       "      <td>0.515</td>\n",
       "      <td>0.283</td>\n",
       "      <td>0.744</td>\n",
       "      <td>0.444</td>\n",
       "      <td>...</td>\n",
       "      <td>0</td>\n",
       "      <td>0</td>\n",
       "      <td>0</td>\n",
       "      <td>0</td>\n",
       "      <td>0</td>\n",
       "      <td>0</td>\n",
       "      <td>1</td>\n",
       "      <td>0</td>\n",
       "      <td>1</td>\n",
       "      <td>0</td>\n",
       "    </tr>\n",
       "    <tr>\n",
       "      <th>3795</th>\n",
       "      <td>0.002733</td>\n",
       "      <td>0.418070</td>\n",
       "      <td>0.010022</td>\n",
       "      <td>0.553015</td>\n",
       "      <td>0.072591</td>\n",
       "      <td>0.375</td>\n",
       "      <td>0.375</td>\n",
       "      <td>0.531</td>\n",
       "      <td>0.778</td>\n",
       "      <td>0.296</td>\n",
       "      <td>...</td>\n",
       "      <td>0</td>\n",
       "      <td>0</td>\n",
       "      <td>0</td>\n",
       "      <td>0</td>\n",
       "      <td>0</td>\n",
       "      <td>0</td>\n",
       "      <td>1</td>\n",
       "      <td>0</td>\n",
       "      <td>1</td>\n",
       "      <td>0</td>\n",
       "    </tr>\n",
       "    <tr>\n",
       "      <th>3796</th>\n",
       "      <td>0.000729</td>\n",
       "      <td>0.247320</td>\n",
       "      <td>0.014172</td>\n",
       "      <td>0.689189</td>\n",
       "      <td>0.076055</td>\n",
       "      <td>0.421</td>\n",
       "      <td>0.559</td>\n",
       "      <td>0.408</td>\n",
       "      <td>0.789</td>\n",
       "      <td>0.423</td>\n",
       "      <td>...</td>\n",
       "      <td>0</td>\n",
       "      <td>0</td>\n",
       "      <td>0</td>\n",
       "      <td>0</td>\n",
       "      <td>0</td>\n",
       "      <td>0</td>\n",
       "      <td>1</td>\n",
       "      <td>0</td>\n",
       "      <td>1</td>\n",
       "      <td>0</td>\n",
       "    </tr>\n",
       "  </tbody>\n",
       "</table>\n",
       "<p>3371 rows × 53 columns</p>\n",
       "</div>"
      ],
      "text/plain": [
       "      student_count  awards_per_value  exp_award_value    ft_pct  aid_value  \\\n",
       "0          0.023677          0.104900         0.019941  0.935551   0.165867   \n",
       "1          0.067476          0.156202         0.025851  0.716216   0.140338   \n",
       "2          0.001758          0.225115         0.011059  0.612266   0.054401   \n",
       "3          0.033347          0.156202         0.012196  0.733888   0.153878   \n",
       "4          0.031348          0.084992         0.025067  0.906445   0.168629   \n",
       "...             ...               ...              ...       ...        ...   \n",
       "3792       0.000488          0.054364         0.023993  0.588358   0.106961   \n",
       "3793       0.000511          0.196784         0.004553  0.319127   0.110594   \n",
       "3794       0.000688          0.123277         0.020061  0.917879   0.220438   \n",
       "3795       0.002733          0.418070         0.010022  0.553015   0.072591   \n",
       "3796       0.000729          0.247320         0.014172  0.689189   0.076055   \n",
       "\n",
       "      grad_100_value  grad_150_value  pell_value  retain_value  ft_fac_value  \\\n",
       "0              0.100           0.291       0.712         0.631         0.828   \n",
       "1              0.294           0.535       0.351         0.802         0.924   \n",
       "2              0.000           0.667       0.684         0.375         0.672   \n",
       "3              0.165           0.484       0.328         0.810         0.655   \n",
       "4              0.088           0.252       0.827         0.622         0.670   \n",
       "...              ...             ...         ...           ...           ...   \n",
       "3792           0.000           0.000       0.744         0.333         0.286   \n",
       "3793           0.000           0.000       0.263         0.333         0.107   \n",
       "3794           0.515           0.515       0.283         0.744         0.444   \n",
       "3795           0.375           0.375       0.531         0.778         0.296   \n",
       "3796           0.421           0.559       0.408         0.789         0.423   \n",
       "\n",
       "      ...  basic_Schools of art- music- and design  \\\n",
       "0     ...                                        0   \n",
       "1     ...                                        0   \n",
       "2     ...                                        0   \n",
       "3     ...                                        0   \n",
       "4     ...                                        0   \n",
       "...   ...                                      ...   \n",
       "3792  ...                                        0   \n",
       "3793  ...                                        0   \n",
       "3794  ...                                        0   \n",
       "3795  ...                                        0   \n",
       "3796  ...                                        0   \n",
       "\n",
       "      basic_Schools of business and management  basic_Schools of engineering  \\\n",
       "0                                            0                             0   \n",
       "1                                            0                             0   \n",
       "2                                            0                             0   \n",
       "3                                            0                             0   \n",
       "4                                            0                             0   \n",
       "...                                        ...                           ...   \n",
       "3792                                         0                             0   \n",
       "3793                                         0                             0   \n",
       "3794                                         0                             0   \n",
       "3795                                         0                             0   \n",
       "3796                                         0                             0   \n",
       "\n",
       "      basic_Schools of law  \\\n",
       "0                        0   \n",
       "1                        0   \n",
       "2                        0   \n",
       "3                        0   \n",
       "4                        0   \n",
       "...                    ...   \n",
       "3792                     0   \n",
       "3793                     0   \n",
       "3794                     0   \n",
       "3795                     0   \n",
       "3796                     0   \n",
       "\n",
       "      basic_Theological seminaries- Bible colleges- and other faith-related institutions  \\\n",
       "0                                                     0                                    \n",
       "1                                                     0                                    \n",
       "2                                                     0                                    \n",
       "3                                                     0                                    \n",
       "4                                                     0                                    \n",
       "...                                                 ...                                    \n",
       "3792                                                  0                                    \n",
       "3793                                                  0                                    \n",
       "3794                                                  0                                    \n",
       "3795                                                  0                                    \n",
       "3796                                                  0                                    \n",
       "\n",
       "      basic_Tribal Colleges  hbcu_0  hbcu_1  flagship_0  flagship_1  \n",
       "0                         0       0       1           1           0  \n",
       "1                         0       1       0           1           0  \n",
       "2                         0       1       0           1           0  \n",
       "3                         0       1       0           1           0  \n",
       "4                         0       0       1           1           0  \n",
       "...                     ...     ...     ...         ...         ...  \n",
       "3792                      1       1       0           1           0  \n",
       "3793                      0       1       0           1           0  \n",
       "3794                      0       1       0           1           0  \n",
       "3795                      0       1       0           1           0  \n",
       "3796                      0       1       0           1           0  \n",
       "\n",
       "[3371 rows x 53 columns]"
      ]
     },
     "execution_count": 11,
     "metadata": {},
     "output_type": "execute_result"
    }
   ],
   "source": [
    "category_list = list(institution_details2.select_dtypes('category'))\n",
    "retainment_one_hot = pd.get_dummies(institution_details2, columns = category_list, dtype=int) \n",
    "retainment_one_hot"
   ]
  },
  {
   "cell_type": "code",
   "execution_count": 12,
   "metadata": {},
   "outputs": [
    {
     "data": {
      "text/plain": [
       "count    3371.000000\n",
       "mean        0.666998\n",
       "std         0.159955\n",
       "min         0.000000\n",
       "25%         0.564000\n",
       "50%         0.671000\n",
       "75%         0.781000\n",
       "max         1.000000\n",
       "Name: retain_value, dtype: float64"
      ]
     },
     "execution_count": 12,
     "metadata": {},
     "output_type": "execute_result"
    },
    {
     "data": {
      "image/png": "[encoded data removed]",
      "text/plain": [
       "<Figure size 640x480 with 1 Axes>"
      ]
     },
     "metadata": {},
     "output_type": "display_data"
    }
   ],
   "source": [
    "retainment_one_hot.boxplot(column= 'retain_value', vert= False, grid=False)\n",
    "retainment_one_hot.retain_value.describe()"
   ]
  },
  {
   "cell_type": "code",
   "execution_count": 13,
   "metadata": {},
   "outputs": [
    {
     "data": {
      "text/plain": [
       "0.2491842183328389"
      ]
     },
     "execution_count": 13,
     "metadata": {},
     "output_type": "execute_result"
    }
   ],
   "source": [
    "retainment_one_hot['retain_value_f'] = pd.cut(retainment_one_hot.retain_value, bins = [-1,0.781,1], labels =[0,1])\n",
    "prevalence = retainment_one_hot.retain_value_f.value_counts()[1]/len(retainment_one_hot.retain_value_f)\n",
    "prevalence"
   ]
  },
  {
   "cell_type": "code",
   "execution_count": 14,
   "metadata": {},
   "outputs": [],
   "source": [
    "new_retainment = retainment_one_hot.drop(['retain_value'],axis=1)"
   ]
  },
  {
   "cell_type": "code",
   "execution_count": 15,
   "metadata": {},
   "outputs": [
    {
     "name": "stdout",
     "output_type": "stream",
     "text": [
      "(2696, 53)\n",
      "(675, 53)\n"
     ]
    }
   ],
   "source": [
    "Train, Test = train_test_split(new_retainment,  train_size = .8, stratify = new_retainment.retain_value_f)\n",
    "print(Train.shape)\n",
    "print(Test.shape) "
   ]
  },
  {
   "cell_type": "code",
   "execution_count": 16,
   "metadata": {},
   "outputs": [
    {
     "name": "stdout",
     "output_type": "stream",
     "text": [
      "retain_value_f\n",
      "0    2024\n",
      "1     672\n",
      "Name: count, dtype: int64\n",
      "0.24925816023738873\n"
     ]
    }
   ],
   "source": [
    "Tune, Test = train_test_split(Test,  train_size = .5, stratify= Test.retain_value_f)\n",
    "print(Train.retain_value_f.value_counts())\n",
    "print(672/(672+2024))"
   ]
  },
  {
   "cell_type": "code",
   "execution_count": 17,
   "metadata": {},
   "outputs": [
    {
     "name": "stdout",
     "output_type": "stream",
     "text": [
      "retain_value_f\n",
      "0    253\n",
      "1     84\n",
      "Name: count, dtype: int64\n",
      "0.2490118577075099\n"
     ]
    }
   ],
   "source": [
    "print(Tune.retain_value_f.value_counts())\n",
    "print(126/(380+126))"
   ]
  },
  {
   "cell_type": "code",
   "execution_count": 18,
   "metadata": {},
   "outputs": [
    {
     "name": "stdout",
     "output_type": "stream",
     "text": [
      "retain_value_f\n",
      "0    254\n",
      "1     84\n",
      "Name: count, dtype: int64\n",
      "0.24909529553679133\n"
     ]
    }
   ],
   "source": [
    "print(Test.retain_value_f.value_counts())\n",
    "print(413/(413+1245))"
   ]
  },
  {
   "cell_type": "markdown",
   "metadata": {},
   "source": [
    "# Phase 3:\n",
    "    My instincts tell me that my sets are very close to equivalent but not exactly equivalent. I am hopeful that this won't have a large impact on my model. I think my target will address my problem."
   ]
  },
  {
   "cell_type": "markdown",
   "metadata": {},
   "source": [
    "# Building a kNN model to predict student retainment"
   ]
  },
  {
   "cell_type": "code",
   "execution_count": 19,
   "metadata": {},
   "outputs": [
    {
     "data": {
      "text/plain": [
       "0.2491842183328389"
      ]
     },
     "execution_count": 19,
     "metadata": {},
     "output_type": "execute_result"
    }
   ],
   "source": [
    "prevalence = retainment_one_hot.retain_value_f.value_counts()[1]/len(retainment_one_hot.retain_value_f)\n",
    "prevalence"
   ]
  },
  {
   "cell_type": "code",
   "execution_count": 20,
   "metadata": {},
   "outputs": [],
   "source": [
    "train, test = train_test_split(retainment_one_hot,  test_size=0.4, stratify = retainment_one_hot['retain_value_f'])\n",
    "test, val = train_test_split(test, test_size=0.5, stratify= test['retain_value_f']) "
   ]
  },
  {
   "cell_type": "code",
   "execution_count": 21,
   "metadata": {},
   "outputs": [
    {
     "data": {
      "text/html": [
       "<style>#sk-container-id-1 {color: black;}#sk-container-id-1 pre{padding: 0;}#sk-container-id-1 div.sk-toggleable {background-color: white;}#sk-container-id-1 label.sk-toggleable__label {cursor: pointer;display: block;width: 100%;margin-bottom: 0;padding: 0.3em;box-sizing: border-box;text-align: center;}#sk-container-id-1 label.sk-toggleable__label-arrow:before {content: \"▸\";float: left;margin-right: 0.25em;color: #696969;}#sk-container-id-1 label.sk-toggleable__label-arrow:hover:before {color: black;}#sk-container-id-1 div.sk-estimator:hover label.sk-toggleable__label-arrow:before {color: black;}#sk-container-id-1 div.sk-toggleable__content {max-height: 0;max-width: 0;overflow: hidden;text-align: left;background-color: #f0f8ff;}#sk-container-id-1 div.sk-toggleable__content pre {margin: 0.2em;color: black;border-radius: 0.25em;background-color: #f0f8ff;}#sk-container-id-1 input.sk-toggleable__control:checked~div.sk-toggleable__content {max-height: 200px;max-width: 100%;overflow: auto;}#sk-container-id-1 input.sk-toggleable__control:checked~label.sk-toggleable__label-arrow:before {content: \"▾\";}#sk-container-id-1 div.sk-estimator input.sk-toggleable__control:checked~label.sk-toggleable__label {background-color: #d4ebff;}#sk-container-id-1 div.sk-label input.sk-toggleable__control:checked~label.sk-toggleable__label {background-color: #d4ebff;}#sk-container-id-1 input.sk-hidden--visually {border: 0;clip: rect(1px 1px 1px 1px);clip: rect(1px, 1px, 1px, 1px);height: 1px;margin: -1px;overflow: hidden;padding: 0;position: absolute;width: 1px;}#sk-container-id-1 div.sk-estimator {font-family: monospace;background-color: #f0f8ff;border: 1px dotted black;border-radius: 0.25em;box-sizing: border-box;margin-bottom: 0.5em;}#sk-container-id-1 div.sk-estimator:hover {background-color: #d4ebff;}#sk-container-id-1 div.sk-parallel-item::after {content: \"\";width: 100%;border-bottom: 1px solid gray;flex-grow: 1;}#sk-container-id-1 div.sk-label:hover label.sk-toggleable__label {background-color: #d4ebff;}#sk-container-id-1 div.sk-serial::before {content: \"\";position: absolute;border-left: 1px solid gray;box-sizing: border-box;top: 0;bottom: 0;left: 50%;z-index: 0;}#sk-container-id-1 div.sk-serial {display: flex;flex-direction: column;align-items: center;background-color: white;padding-right: 0.2em;padding-left: 0.2em;position: relative;}#sk-container-id-1 div.sk-item {position: relative;z-index: 1;}#sk-container-id-1 div.sk-parallel {display: flex;align-items: stretch;justify-content: center;background-color: white;position: relative;}#sk-container-id-1 div.sk-item::before, #sk-container-id-1 div.sk-parallel-item::before {content: \"\";position: absolute;border-left: 1px solid gray;box-sizing: border-box;top: 0;bottom: 0;left: 50%;z-index: -1;}#sk-container-id-1 div.sk-parallel-item {display: flex;flex-direction: column;z-index: 1;position: relative;background-color: white;}#sk-container-id-1 div.sk-parallel-item:first-child::after {align-self: flex-end;width: 50%;}#sk-container-id-1 div.sk-parallel-item:last-child::after {align-self: flex-start;width: 50%;}#sk-container-id-1 div.sk-parallel-item:only-child::after {width: 0;}#sk-container-id-1 div.sk-dashed-wrapped {border: 1px dashed gray;margin: 0 0.4em 0.5em 0.4em;box-sizing: border-box;padding-bottom: 0.4em;background-color: white;}#sk-container-id-1 div.sk-label label {font-family: monospace;font-weight: bold;display: inline-block;line-height: 1.2em;}#sk-container-id-1 div.sk-label-container {text-align: center;}#sk-container-id-1 div.sk-container {/* jupyter's `normalize.less` sets `[hidden] { display: none; }` but bootstrap.min.css set `[hidden] { display: none !important; }` so we also need the `!important` here to be able to override the default hidden behavior on the sphinx rendered scikit-learn.org. See: https://github.com/scikit-learn/scikit-learn/issues/21755 */display: inline-block !important;position: relative;}#sk-container-id-1 div.sk-text-repr-fallback {display: none;}</style><div id=\"sk-container-id-1\" class=\"sk-top-container\"><div class=\"sk-text-repr-fallback\"><pre>KNeighborsClassifier(n_neighbors=9)</pre><b>In a Jupyter environment, please rerun this cell to show the HTML representation or trust the notebook. <br />On GitHub, the HTML representation is unable to render, please try loading this page with nbviewer.org.</b></div><div class=\"sk-container\" hidden><div class=\"sk-item\"><div class=\"sk-estimator sk-toggleable\"><input class=\"sk-toggleable__control sk-hidden--visually\" id=\"sk-estimator-id-1\" type=\"checkbox\" checked><label for=\"sk-estimator-id-1\" class=\"sk-toggleable__label sk-toggleable__label-arrow\">KNeighborsClassifier</label><div class=\"sk-toggleable__content\"><pre>KNeighborsClassifier(n_neighbors=9)</pre></div></div></div></div></div>"
      ],
      "text/plain": [
       "KNeighborsClassifier(n_neighbors=9)"
      ]
     },
     "execution_count": 21,
     "metadata": {},
     "output_type": "execute_result"
    }
   ],
   "source": [
    "import random\n",
    "random.seed(1984)   # kNN is a random algorithm, so we use `random.seed(x)` to make results repeatable\n",
    "\n",
    "X_train = train.drop(['retain_value_f'], axis=1).values\n",
    "y_train = train['retain_value_f'].values\n",
    "\n",
    "neigh = KNeighborsClassifier(n_neighbors=9)\n",
    "neigh.fit(X_train, y_train)"
   ]
  },
  {
   "cell_type": "code",
   "execution_count": 22,
   "metadata": {},
   "outputs": [
    {
     "data": {
      "text/plain": [
       "0.8976261127596439"
      ]
     },
     "execution_count": 22,
     "metadata": {},
     "output_type": "execute_result"
    }
   ],
   "source": [
    "X_test = test.drop(['retain_value_f'], axis=1).values\n",
    "y_test = test['retain_value_f'].values\n",
    "\n",
    "neigh.score(X_test, y_test)"
   ]
  },
  {
   "cell_type": "code",
   "execution_count": 23,
   "metadata": {},
   "outputs": [
    {
     "data": {
      "text/plain": [
       "0.8933333333333333"
      ]
     },
     "execution_count": 23,
     "metadata": {},
     "output_type": "execute_result"
    }
   ],
   "source": [
    "X_val = val.drop(['retain_value_f'], axis=1).values\n",
    "y_val = val['retain_value_f'].values\n",
    "\n",
    "neigh.score(X_val, y_val)"
   ]
  },
  {
   "cell_type": "code",
   "execution_count": 24,
   "metadata": {},
   "outputs": [
    {
     "data": {
      "image/png": "[encoded data removed]",
      "text/plain": [
       "<Figure size 640x480 with 2 Axes>"
      ]
     },
     "metadata": {},
     "output_type": "display_data"
    }
   ],
   "source": [
    "from sklearn.metrics import ConfusionMatrixDisplay\n",
    "ConfusionMatrixDisplay.from_estimator(neigh, X_val, y_val, cmap = 'Blues') \n",
    "plt.show()"
   ]
  },
  {
   "cell_type": "markdown",
   "metadata": {},
   "source": [
    "Our confusion matrix at the default threshhold is doing an okay job. It is correctly placing the true negatives and only made a few errors regarding false positives. However, it is not doing a good job of predicting true positives and false negatives. This is a problem because we want to be able to predict students who will not retain so that we can intervene and help them. We are not doing a good job of this. Adjusting the threshhold to minimize false negatives will help us to better predict students who will not retain."
   ]
  },
  {
   "cell_type": "code",
   "execution_count": 25,
   "metadata": {},
   "outputs": [
    {
     "name": "stdout",
     "output_type": "stream",
     "text": [
      "              precision    recall  f1-score   support\n",
      "\n",
      "           0       0.97      0.89      0.93       551\n",
      "           1       0.65      0.89      0.75       124\n",
      "\n",
      "    accuracy                           0.89       675\n",
      "   macro avg       0.81      0.89      0.84       675\n",
      "weighted avg       0.91      0.89      0.90       675\n",
      "\n"
     ]
    }
   ],
   "source": [
    "from sklearn.metrics import classification_report\n",
    "\n",
    "y_val_pred = neigh.predict(X_val)\n",
    "print(classification_report(y_val_pred, y_val))"
   ]
  },
  {
   "cell_type": "code",
   "execution_count": 26,
   "metadata": {},
   "outputs": [
    {
     "name": "stdout",
     "output_type": "stream",
     "text": [
      "0.6488095238095238 0.9566074950690335\n"
     ]
    }
   ],
   "source": [
    "sensitivity = 109/(109+59)   # = TP/(TP+FN)\n",
    "specificity = 485/(485+22)   # = TN/(TN+FP)\n",
    "print(sensitivity, specificity)"
   ]
  },
  {
   "cell_type": "code",
   "execution_count": 27,
   "metadata": {},
   "outputs": [],
   "source": [
    "def chooseK(k, X_train, y_train, X_test, y_test):\n",
    "    random.seed(1)\n",
    "    print(\"calculating... \", k, \"k\")    # I'll include this so you can see the progress of the function as it runs\n",
    "    class_knn = KNeighborsClassifier(n_neighbors=k)\n",
    "    class_knn.fit(X_train, y_train)\n",
    "    \n",
    "    # calculate accuracy\n",
    "    accu = class_knn.score(X_test, y_test)\n",
    "    return accu"
   ]
  },
  {
   "cell_type": "code",
   "execution_count": 28,
   "metadata": {},
   "outputs": [
    {
     "name": "stdout",
     "output_type": "stream",
     "text": [
      "calculating...  1 k\n",
      "calculating...  3 k\n",
      "calculating...  5 k\n",
      "calculating...  7 k\n",
      "calculating...  9 k\n",
      "calculating...  11 k\n",
      "calculating...  13 k\n",
      "calculating...  15 k\n",
      "calculating...  17 k\n",
      "calculating...  19 k\n",
      "calculating...  21 k\n"
     ]
    }
   ],
   "source": [
    "test = pd.DataFrame({'k':list(range(1,22,2)), \n",
    "                     'accu':[chooseK(x, X_train, y_train, X_test, y_test) for x in list(range(1, 22, 2))]})"
   ]
  },
  {
   "cell_type": "code",
   "execution_count": 29,
   "metadata": {},
   "outputs": [
    {
     "data": {
      "text/html": [
       "<div>\n",
       "<style scoped>\n",
       "    .dataframe tbody tr th:only-of-type {\n",
       "        vertical-align: middle;\n",
       "    }\n",
       "\n",
       "    .dataframe tbody tr th {\n",
       "        vertical-align: top;\n",
       "    }\n",
       "\n",
       "    .dataframe thead th {\n",
       "        text-align: right;\n",
       "    }\n",
       "</style>\n",
       "<table border=\"1\" class=\"dataframe\">\n",
       "  <thead>\n",
       "    <tr style=\"text-align: right;\">\n",
       "      <th></th>\n",
       "      <th>k</th>\n",
       "      <th>accu</th>\n",
       "    </tr>\n",
       "  </thead>\n",
       "  <tbody>\n",
       "    <tr>\n",
       "      <th>0</th>\n",
       "      <td>1</td>\n",
       "      <td>0.891691</td>\n",
       "    </tr>\n",
       "    <tr>\n",
       "      <th>1</th>\n",
       "      <td>3</td>\n",
       "      <td>0.915430</td>\n",
       "    </tr>\n",
       "    <tr>\n",
       "      <th>2</th>\n",
       "      <td>5</td>\n",
       "      <td>0.913947</td>\n",
       "    </tr>\n",
       "    <tr>\n",
       "      <th>3</th>\n",
       "      <td>7</td>\n",
       "      <td>0.905045</td>\n",
       "    </tr>\n",
       "    <tr>\n",
       "      <th>4</th>\n",
       "      <td>9</td>\n",
       "      <td>0.897626</td>\n",
       "    </tr>\n",
       "    <tr>\n",
       "      <th>5</th>\n",
       "      <td>11</td>\n",
       "      <td>0.906528</td>\n",
       "    </tr>\n",
       "    <tr>\n",
       "      <th>6</th>\n",
       "      <td>13</td>\n",
       "      <td>0.893175</td>\n",
       "    </tr>\n",
       "    <tr>\n",
       "      <th>7</th>\n",
       "      <td>15</td>\n",
       "      <td>0.897626</td>\n",
       "    </tr>\n",
       "    <tr>\n",
       "      <th>8</th>\n",
       "      <td>17</td>\n",
       "      <td>0.891691</td>\n",
       "    </tr>\n",
       "    <tr>\n",
       "      <th>9</th>\n",
       "      <td>19</td>\n",
       "      <td>0.896142</td>\n",
       "    </tr>\n",
       "    <tr>\n",
       "      <th>10</th>\n",
       "      <td>21</td>\n",
       "      <td>0.890208</td>\n",
       "    </tr>\n",
       "  </tbody>\n",
       "</table>\n",
       "</div>"
      ],
      "text/plain": [
       "     k      accu\n",
       "0    1  0.891691\n",
       "1    3  0.915430\n",
       "2    5  0.913947\n",
       "3    7  0.905045\n",
       "4    9  0.897626\n",
       "5   11  0.906528\n",
       "6   13  0.893175\n",
       "7   15  0.897626\n",
       "8   17  0.891691\n",
       "9   19  0.896142\n",
       "10  21  0.890208"
      ]
     },
     "execution_count": 29,
     "metadata": {},
     "output_type": "execute_result"
    }
   ],
   "source": [
    "test"
   ]
  },
  {
   "cell_type": "code",
   "execution_count": 30,
   "metadata": {},
   "outputs": [
    {
     "data": {
      "text/html": [
       "<div>\n",
       "<style scoped>\n",
       "    .dataframe tbody tr th:only-of-type {\n",
       "        vertical-align: middle;\n",
       "    }\n",
       "\n",
       "    .dataframe tbody tr th {\n",
       "        vertical-align: top;\n",
       "    }\n",
       "\n",
       "    .dataframe thead th {\n",
       "        text-align: right;\n",
       "    }\n",
       "</style>\n",
       "<table border=\"1\" class=\"dataframe\">\n",
       "  <thead>\n",
       "    <tr style=\"text-align: right;\">\n",
       "      <th></th>\n",
       "      <th>k</th>\n",
       "      <th>accu</th>\n",
       "    </tr>\n",
       "  </thead>\n",
       "  <tbody>\n",
       "    <tr>\n",
       "      <th>1</th>\n",
       "      <td>3</td>\n",
       "      <td>0.915430</td>\n",
       "    </tr>\n",
       "    <tr>\n",
       "      <th>2</th>\n",
       "      <td>5</td>\n",
       "      <td>0.913947</td>\n",
       "    </tr>\n",
       "    <tr>\n",
       "      <th>5</th>\n",
       "      <td>11</td>\n",
       "      <td>0.906528</td>\n",
       "    </tr>\n",
       "    <tr>\n",
       "      <th>3</th>\n",
       "      <td>7</td>\n",
       "      <td>0.905045</td>\n",
       "    </tr>\n",
       "    <tr>\n",
       "      <th>4</th>\n",
       "      <td>9</td>\n",
       "      <td>0.897626</td>\n",
       "    </tr>\n",
       "    <tr>\n",
       "      <th>7</th>\n",
       "      <td>15</td>\n",
       "      <td>0.897626</td>\n",
       "    </tr>\n",
       "    <tr>\n",
       "      <th>9</th>\n",
       "      <td>19</td>\n",
       "      <td>0.896142</td>\n",
       "    </tr>\n",
       "    <tr>\n",
       "      <th>6</th>\n",
       "      <td>13</td>\n",
       "      <td>0.893175</td>\n",
       "    </tr>\n",
       "    <tr>\n",
       "      <th>0</th>\n",
       "      <td>1</td>\n",
       "      <td>0.891691</td>\n",
       "    </tr>\n",
       "    <tr>\n",
       "      <th>8</th>\n",
       "      <td>17</td>\n",
       "      <td>0.891691</td>\n",
       "    </tr>\n",
       "    <tr>\n",
       "      <th>10</th>\n",
       "      <td>21</td>\n",
       "      <td>0.890208</td>\n",
       "    </tr>\n",
       "  </tbody>\n",
       "</table>\n",
       "</div>"
      ],
      "text/plain": [
       "     k      accu\n",
       "1    3  0.915430\n",
       "2    5  0.913947\n",
       "5   11  0.906528\n",
       "3    7  0.905045\n",
       "4    9  0.897626\n",
       "7   15  0.897626\n",
       "9   19  0.896142\n",
       "6   13  0.893175\n",
       "0    1  0.891691\n",
       "8   17  0.891691\n",
       "10  21  0.890208"
      ]
     },
     "execution_count": 30,
     "metadata": {},
     "output_type": "execute_result"
    }
   ],
   "source": [
    "test = test.sort_values(by=['accu'], ascending=False)\n",
    "test"
   ]
  },
  {
   "cell_type": "markdown",
   "metadata": {},
   "source": [
    "It seems like 3 might be our ideal number for k!"
   ]
  },
  {
   "cell_type": "code",
   "execution_count": 32,
   "metadata": {},
   "outputs": [
    {
     "data": {
      "image/png": "[encoded data removed]",
      "text/plain": [
       "<Figure size 640x480 with 1 Axes>"
      ]
     },
     "metadata": {},
     "output_type": "display_data"
    }
   ],
   "source": [
    "plt.plot(test['k'], test['accu'])\n",
    "plt.xlabel('k')\n",
    "plt.ylabel('Accuracy')\n",
    "plt.title('Model Accuracy')\n",
    "plt.show()"
   ]
  },
  {
   "cell_type": "code",
   "execution_count": 33,
   "metadata": {},
   "outputs": [],
   "source": [
    "test_probs = neigh.predict_proba(X_test)\n",
    "test_preds = neigh.predict(X_test)"
   ]
  },
  {
   "cell_type": "code",
   "execution_count": 34,
   "metadata": {},
   "outputs": [
    {
     "data": {
      "text/html": [
       "<div>\n",
       "<style scoped>\n",
       "    .dataframe tbody tr th:only-of-type {\n",
       "        vertical-align: middle;\n",
       "    }\n",
       "\n",
       "    .dataframe tbody tr th {\n",
       "        vertical-align: top;\n",
       "    }\n",
       "\n",
       "    .dataframe thead th {\n",
       "        text-align: right;\n",
       "    }\n",
       "</style>\n",
       "<table border=\"1\" class=\"dataframe\">\n",
       "  <thead>\n",
       "    <tr style=\"text-align: right;\">\n",
       "      <th></th>\n",
       "      <th>not_retained_prob</th>\n",
       "      <th>retained_prob</th>\n",
       "    </tr>\n",
       "  </thead>\n",
       "  <tbody>\n",
       "    <tr>\n",
       "      <th>0</th>\n",
       "      <td>1.000000</td>\n",
       "      <td>0.000000</td>\n",
       "    </tr>\n",
       "    <tr>\n",
       "      <th>1</th>\n",
       "      <td>1.000000</td>\n",
       "      <td>0.000000</td>\n",
       "    </tr>\n",
       "    <tr>\n",
       "      <th>2</th>\n",
       "      <td>1.000000</td>\n",
       "      <td>0.000000</td>\n",
       "    </tr>\n",
       "    <tr>\n",
       "      <th>3</th>\n",
       "      <td>1.000000</td>\n",
       "      <td>0.000000</td>\n",
       "    </tr>\n",
       "    <tr>\n",
       "      <th>4</th>\n",
       "      <td>0.000000</td>\n",
       "      <td>1.000000</td>\n",
       "    </tr>\n",
       "    <tr>\n",
       "      <th>...</th>\n",
       "      <td>...</td>\n",
       "      <td>...</td>\n",
       "    </tr>\n",
       "    <tr>\n",
       "      <th>669</th>\n",
       "      <td>0.888889</td>\n",
       "      <td>0.111111</td>\n",
       "    </tr>\n",
       "    <tr>\n",
       "      <th>670</th>\n",
       "      <td>1.000000</td>\n",
       "      <td>0.000000</td>\n",
       "    </tr>\n",
       "    <tr>\n",
       "      <th>671</th>\n",
       "      <td>1.000000</td>\n",
       "      <td>0.000000</td>\n",
       "    </tr>\n",
       "    <tr>\n",
       "      <th>672</th>\n",
       "      <td>1.000000</td>\n",
       "      <td>0.000000</td>\n",
       "    </tr>\n",
       "    <tr>\n",
       "      <th>673</th>\n",
       "      <td>1.000000</td>\n",
       "      <td>0.000000</td>\n",
       "    </tr>\n",
       "  </tbody>\n",
       "</table>\n",
       "<p>674 rows × 2 columns</p>\n",
       "</div>"
      ],
      "text/plain": [
       "     not_retained_prob  retained_prob\n",
       "0             1.000000       0.000000\n",
       "1             1.000000       0.000000\n",
       "2             1.000000       0.000000\n",
       "3             1.000000       0.000000\n",
       "4             0.000000       1.000000\n",
       "..                 ...            ...\n",
       "669           0.888889       0.111111\n",
       "670           1.000000       0.000000\n",
       "671           1.000000       0.000000\n",
       "672           1.000000       0.000000\n",
       "673           1.000000       0.000000\n",
       "\n",
       "[674 rows x 2 columns]"
      ]
     },
     "execution_count": 34,
     "metadata": {},
     "output_type": "execute_result"
    }
   ],
   "source": [
    "test_probabilities = pd.DataFrame(test_probs, columns = ['not_retained_prob', 'retained_prob'])\n",
    "test_probabilities"
   ]
  },
  {
   "cell_type": "code",
   "execution_count": 35,
   "metadata": {},
   "outputs": [],
   "source": [
    "final_model = pd.DataFrame({'actual_class': y_test.tolist(),\n",
    "                           'pred_class': test_preds.tolist(),\n",
    "                           'pred_prob': [test_probabilities['retained_prob'][i] if test_preds[i]==1 else test_probabilities['not_retained_prob'][i] for i in range(len(test_preds))]})"
   ]
  },
  {
   "cell_type": "code",
   "execution_count": 36,
   "metadata": {},
   "outputs": [
    {
     "data": {
      "text/html": [
       "<div>\n",
       "<style scoped>\n",
       "    .dataframe tbody tr th:only-of-type {\n",
       "        vertical-align: middle;\n",
       "    }\n",
       "\n",
       "    .dataframe tbody tr th {\n",
       "        vertical-align: top;\n",
       "    }\n",
       "\n",
       "    .dataframe thead th {\n",
       "        text-align: right;\n",
       "    }\n",
       "</style>\n",
       "<table border=\"1\" class=\"dataframe\">\n",
       "  <thead>\n",
       "    <tr style=\"text-align: right;\">\n",
       "      <th></th>\n",
       "      <th>actual_class</th>\n",
       "      <th>pred_class</th>\n",
       "      <th>pred_prob</th>\n",
       "    </tr>\n",
       "  </thead>\n",
       "  <tbody>\n",
       "    <tr>\n",
       "      <th>0</th>\n",
       "      <td>0</td>\n",
       "      <td>0</td>\n",
       "      <td>1.0</td>\n",
       "    </tr>\n",
       "    <tr>\n",
       "      <th>1</th>\n",
       "      <td>0</td>\n",
       "      <td>0</td>\n",
       "      <td>1.0</td>\n",
       "    </tr>\n",
       "    <tr>\n",
       "      <th>2</th>\n",
       "      <td>0</td>\n",
       "      <td>0</td>\n",
       "      <td>1.0</td>\n",
       "    </tr>\n",
       "    <tr>\n",
       "      <th>3</th>\n",
       "      <td>0</td>\n",
       "      <td>0</td>\n",
       "      <td>1.0</td>\n",
       "    </tr>\n",
       "    <tr>\n",
       "      <th>4</th>\n",
       "      <td>1</td>\n",
       "      <td>1</td>\n",
       "      <td>1.0</td>\n",
       "    </tr>\n",
       "  </tbody>\n",
       "</table>\n",
       "</div>"
      ],
      "text/plain": [
       "   actual_class  pred_class  pred_prob\n",
       "0             0           0        1.0\n",
       "1             0           0        1.0\n",
       "2             0           0        1.0\n",
       "3             0           0        1.0\n",
       "4             1           1        1.0"
      ]
     },
     "execution_count": 36,
     "metadata": {},
     "output_type": "execute_result"
    }
   ],
   "source": [
    "final_model.head()"
   ]
  },
  {
   "cell_type": "code",
   "execution_count": 37,
   "metadata": {},
   "outputs": [],
   "source": [
    "final_model['pos_pred'] = [final_model.pred_prob[i] if final_model.pred_class[i]==1 else 1-final_model.pred_prob[i] for i in range(len(final_model.pred_class))]"
   ]
  },
  {
   "cell_type": "code",
   "execution_count": 38,
   "metadata": {},
   "outputs": [
    {
     "data": {
      "text/html": [
       "<div>\n",
       "<style scoped>\n",
       "    .dataframe tbody tr th:only-of-type {\n",
       "        vertical-align: middle;\n",
       "    }\n",
       "\n",
       "    .dataframe tbody tr th {\n",
       "        vertical-align: top;\n",
       "    }\n",
       "\n",
       "    .dataframe thead th {\n",
       "        text-align: right;\n",
       "    }\n",
       "</style>\n",
       "<table border=\"1\" class=\"dataframe\">\n",
       "  <thead>\n",
       "    <tr style=\"text-align: right;\">\n",
       "      <th></th>\n",
       "      <th>actual_class</th>\n",
       "      <th>pred_class</th>\n",
       "      <th>pred_prob</th>\n",
       "      <th>pos_pred</th>\n",
       "    </tr>\n",
       "  </thead>\n",
       "  <tbody>\n",
       "    <tr>\n",
       "      <th>0</th>\n",
       "      <td>0</td>\n",
       "      <td>0</td>\n",
       "      <td>1.0</td>\n",
       "      <td>0.0</td>\n",
       "    </tr>\n",
       "    <tr>\n",
       "      <th>1</th>\n",
       "      <td>0</td>\n",
       "      <td>0</td>\n",
       "      <td>1.0</td>\n",
       "      <td>0.0</td>\n",
       "    </tr>\n",
       "    <tr>\n",
       "      <th>2</th>\n",
       "      <td>0</td>\n",
       "      <td>0</td>\n",
       "      <td>1.0</td>\n",
       "      <td>0.0</td>\n",
       "    </tr>\n",
       "    <tr>\n",
       "      <th>3</th>\n",
       "      <td>0</td>\n",
       "      <td>0</td>\n",
       "      <td>1.0</td>\n",
       "      <td>0.0</td>\n",
       "    </tr>\n",
       "    <tr>\n",
       "      <th>4</th>\n",
       "      <td>1</td>\n",
       "      <td>1</td>\n",
       "      <td>1.0</td>\n",
       "      <td>1.0</td>\n",
       "    </tr>\n",
       "  </tbody>\n",
       "</table>\n",
       "</div>"
      ],
      "text/plain": [
       "   actual_class  pred_class  pred_prob  pos_pred\n",
       "0             0           0        1.0       0.0\n",
       "1             0           0        1.0       0.0\n",
       "2             0           0        1.0       0.0\n",
       "3             0           0        1.0       0.0\n",
       "4             1           1        1.0       1.0"
      ]
     },
     "execution_count": 38,
     "metadata": {},
     "output_type": "execute_result"
    }
   ],
   "source": [
    "final_model.head()"
   ]
  },
  {
   "cell_type": "code",
   "execution_count": 39,
   "metadata": {},
   "outputs": [],
   "source": [
    "final_model.actual_class = final_model.actual_class.astype('category')\n",
    "final_model.pred_class = final_model.pred_class.astype('category')"
   ]
  },
  {
   "cell_type": "code",
   "execution_count": 40,
   "metadata": {},
   "outputs": [
    {
     "name": "stderr",
     "output_type": "stream",
     "text": [
      "/Users/Luke/anaconda3/envs/sklearn-env/lib/python3.11/site-packages/seaborn/axisgrid.py:118: UserWarning: The figure layout has changed to tight\n",
      "  self._figure.tight_layout(*args, **kwargs)\n"
     ]
    },
    {
     "data": {
      "text/plain": [
       "<seaborn.axisgrid.FacetGrid at 0x165c56ed0>"
      ]
     },
     "execution_count": 40,
     "metadata": {},
     "output_type": "execute_result"
    },
    {
     "data": {
      "image/png": "[encoded data removed]",
      "text/plain": [
       "<Figure size 500x500 with 1 Axes>"
      ]
     },
     "metadata": {},
     "output_type": "display_data"
    }
   ],
   "source": [
    "import seaborn as sns\n",
    "\n",
    "sns.displot(final_model, x=\"pos_pred\", kind=\"kde\")"
   ]
  },
  {
   "cell_type": "code",
   "execution_count": 41,
   "metadata": {},
   "outputs": [
    {
     "data": {
      "text/plain": [
       "pos_pred\n",
       "0.000000    338\n",
       "0.111111     83\n",
       "1.000000     55\n",
       "0.222222     46\n",
       "0.333333     41\n",
       "0.444444     33\n",
       "0.888889     23\n",
       "0.666667     21\n",
       "0.777778     18\n",
       "0.555556     16\n",
       "Name: count, dtype: int64"
      ]
     },
     "execution_count": 41,
     "metadata": {},
     "output_type": "execute_result"
    }
   ],
   "source": [
    "final_model.pos_pred.value_counts()"
   ]
  },
  {
   "cell_type": "code",
   "execution_count": 42,
   "metadata": {},
   "outputs": [],
   "source": [
    "from sklearn.metrics import confusion_matrix\n",
    "\n",
    "def adjust_thres(x, y, z):\n",
    "    \"\"\"\n",
    "    x=pred_probabilities\n",
    "    y=threshold\n",
    "    z=tune_outcome\n",
    "    \"\"\"\n",
    "    thres = pd.DataFrame({'new_preds': [1 if i > y else 0 for i in x]})\n",
    "    thres.new_preds = thres.new_preds.astype('category')\n",
    "    con_mat = confusion_matrix(z, thres)  \n",
    "    print(con_mat)"
   ]
  },
  {
   "cell_type": "code",
   "execution_count": 43,
   "metadata": {},
   "outputs": [
    {
     "data": {
      "text/plain": [
       "array([[489,  17],\n",
       "       [ 52, 116]])"
      ]
     },
     "execution_count": 43,
     "metadata": {},
     "output_type": "execute_result"
    }
   ],
   "source": [
    "confusion_matrix(final_model.actual_class, final_model.pred_class) "
   ]
  },
  {
   "cell_type": "code",
   "execution_count": 63,
   "metadata": {},
   "outputs": [
    {
     "name": "stdout",
     "output_type": "stream",
     "text": [
      "[[476  30]\n",
      " [ 32 136]]\n"
     ]
    }
   ],
   "source": [
    "adjust_thres(final_model.pos_pred, .4, final_model.actual_class)"
   ]
  },
  {
   "cell_type": "markdown",
   "metadata": {},
   "source": [
    "I think I want my final threshold to be around .4 because .4 minimizes both the false positives and false negatives."
   ]
  },
  {
   "cell_type": "code",
   "execution_count": 64,
   "metadata": {},
   "outputs": [
    {
     "name": "stdout",
     "output_type": "stream",
     "text": [
      "[[446  60]\n",
      " [ 21 147]]\n"
     ]
    }
   ],
   "source": [
    "adjust_thres(final_model.pos_pred, .3, final_model.actual_class)"
   ]
  },
  {
   "cell_type": "code",
   "execution_count": 65,
   "metadata": {},
   "outputs": [
    {
     "data": {
      "image/png": "[encoded data removed]",
      "text/plain": [
       "<Figure size 640x480 with 1 Axes>"
      ]
     },
     "metadata": {},
     "output_type": "display_data"
    }
   ],
   "source": [
    "from sklearn import metrics\n",
    "\n",
    "fpr, tpr, _ = metrics.roc_curve(y_test, final_model.pos_pred)\n",
    "auc = metrics.roc_auc_score(y_test, final_model.pos_pred)\n",
    "plt.plot(fpr,tpr,label=\"data 1, auc=\"+str(auc))\n",
    "plt.legend(loc=4)\n",
    "plt.plot([0, 1], [0, 1],'r--')\n",
    "plt.ylabel('True Positive Rate')\n",
    "plt.xlabel('False Positive Rate')\n",
    "plt.show()"
   ]
  },
  {
   "cell_type": "code",
   "execution_count": 66,
   "metadata": {},
   "outputs": [
    {
     "data": {
      "image/png": "[encoded data removed]",
      "text/plain": [
       "<Figure size 500x500 with 1 Axes>"
      ]
     },
     "metadata": {},
     "output_type": "display_data"
    }
   ],
   "source": [
    "from plot_metric.functions import BinaryClassification\n",
    "\n",
    "# Visualisation with plot_metric\n",
    "bc = BinaryClassification(y_test, final_model.pred_class, labels=[\"0\", \"1\"])\n",
    "\n",
    "# Figures\n",
    "plt.figure(figsize=(5,5))\n",
    "bc.plot_roc_curve()\n",
    "plt.show()"
   ]
  }
 ],
 "metadata": {
  "kernelspec": {
   "display_name": "Python 3",
   "language": "python",
   "name": "python3"
  },
  "language_info": {
   "codemirror_mode": {
    "name": "ipython",
    "version": 3
   },
   "file_extension": ".py",
   "mimetype": "text/x-python",
   "name": "python",
   "nbconvert_exporter": "python",
   "pygments_lexer": "ipython3",
   "version": "3.11.6"
  },
  "orig_nbformat": 4
 },
 "nbformat": 4,
 "nbformat_minor": 2
}
